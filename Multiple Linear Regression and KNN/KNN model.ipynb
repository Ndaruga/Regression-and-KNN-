{
 "cells": [
  {
   "cell_type": "markdown",
   "id": "7ffe3691",
   "metadata": {},
   "source": [
    "# Email Spam"
   ]
  },
  {
   "cell_type": "code",
   "execution_count": 1,
   "id": "b6c62fd9",
   "metadata": {},
   "outputs": [],
   "source": [
    "import pandas as pd \n",
    "import numpy as np\n",
    "import seaborn as sns\n",
    "import matplotlib.pyplot as plt\n",
    "import warnings\n",
    "warnings.filterwarnings('ignore')\n"
   ]
  },
  {
   "cell_type": "code",
   "execution_count": 2,
   "id": "ced14f4f",
   "metadata": {},
   "outputs": [
    {
     "data": {
      "text/html": [
       "<div>\n",
       "<style scoped>\n",
       "    .dataframe tbody tr th:only-of-type {\n",
       "        vertical-align: middle;\n",
       "    }\n",
       "\n",
       "    .dataframe tbody tr th {\n",
       "        vertical-align: top;\n",
       "    }\n",
       "\n",
       "    .dataframe thead th {\n",
       "        text-align: right;\n",
       "    }\n",
       "</style>\n",
       "<table border=\"1\" class=\"dataframe\">\n",
       "  <thead>\n",
       "    <tr style=\"text-align: right;\">\n",
       "      <th></th>\n",
       "      <th>word_make</th>\n",
       "      <th>word_address</th>\n",
       "      <th>word_all</th>\n",
       "      <th>word_3d</th>\n",
       "      <th>word_our</th>\n",
       "      <th>word_over</th>\n",
       "      <th>word_remove</th>\n",
       "      <th>word_internet</th>\n",
       "      <th>word_order</th>\n",
       "      <th>word_mail</th>\n",
       "      <th>...</th>\n",
       "      <th>char_semicolon</th>\n",
       "      <th>char_leftbrac</th>\n",
       "      <th>char_leftsquarebrac</th>\n",
       "      <th>char_exclaim</th>\n",
       "      <th>char_dollar</th>\n",
       "      <th>char_pound</th>\n",
       "      <th>capital_run_length_average</th>\n",
       "      <th>capital_run_length_longest</th>\n",
       "      <th>capital_run_length_total</th>\n",
       "      <th>spam</th>\n",
       "    </tr>\n",
       "  </thead>\n",
       "  <tbody>\n",
       "    <tr>\n",
       "      <th>0</th>\n",
       "      <td>0</td>\n",
       "      <td>1</td>\n",
       "      <td>1</td>\n",
       "      <td>0</td>\n",
       "      <td>1</td>\n",
       "      <td>0</td>\n",
       "      <td>0</td>\n",
       "      <td>0</td>\n",
       "      <td>0</td>\n",
       "      <td>0</td>\n",
       "      <td>...</td>\n",
       "      <td>0</td>\n",
       "      <td>0</td>\n",
       "      <td>0</td>\n",
       "      <td>1</td>\n",
       "      <td>0</td>\n",
       "      <td>0</td>\n",
       "      <td>3.756</td>\n",
       "      <td>61</td>\n",
       "      <td>278</td>\n",
       "      <td>1</td>\n",
       "    </tr>\n",
       "    <tr>\n",
       "      <th>1</th>\n",
       "      <td>1</td>\n",
       "      <td>1</td>\n",
       "      <td>1</td>\n",
       "      <td>0</td>\n",
       "      <td>1</td>\n",
       "      <td>1</td>\n",
       "      <td>1</td>\n",
       "      <td>1</td>\n",
       "      <td>0</td>\n",
       "      <td>1</td>\n",
       "      <td>...</td>\n",
       "      <td>0</td>\n",
       "      <td>1</td>\n",
       "      <td>0</td>\n",
       "      <td>1</td>\n",
       "      <td>1</td>\n",
       "      <td>1</td>\n",
       "      <td>5.114</td>\n",
       "      <td>101</td>\n",
       "      <td>1028</td>\n",
       "      <td>1</td>\n",
       "    </tr>\n",
       "    <tr>\n",
       "      <th>2</th>\n",
       "      <td>1</td>\n",
       "      <td>0</td>\n",
       "      <td>1</td>\n",
       "      <td>0</td>\n",
       "      <td>1</td>\n",
       "      <td>1</td>\n",
       "      <td>1</td>\n",
       "      <td>1</td>\n",
       "      <td>1</td>\n",
       "      <td>1</td>\n",
       "      <td>...</td>\n",
       "      <td>1</td>\n",
       "      <td>1</td>\n",
       "      <td>0</td>\n",
       "      <td>1</td>\n",
       "      <td>1</td>\n",
       "      <td>1</td>\n",
       "      <td>9.821</td>\n",
       "      <td>485</td>\n",
       "      <td>2259</td>\n",
       "      <td>1</td>\n",
       "    </tr>\n",
       "    <tr>\n",
       "      <th>3</th>\n",
       "      <td>0</td>\n",
       "      <td>0</td>\n",
       "      <td>0</td>\n",
       "      <td>0</td>\n",
       "      <td>1</td>\n",
       "      <td>0</td>\n",
       "      <td>1</td>\n",
       "      <td>1</td>\n",
       "      <td>1</td>\n",
       "      <td>1</td>\n",
       "      <td>...</td>\n",
       "      <td>0</td>\n",
       "      <td>1</td>\n",
       "      <td>0</td>\n",
       "      <td>1</td>\n",
       "      <td>0</td>\n",
       "      <td>0</td>\n",
       "      <td>3.537</td>\n",
       "      <td>40</td>\n",
       "      <td>191</td>\n",
       "      <td>1</td>\n",
       "    </tr>\n",
       "    <tr>\n",
       "      <th>4</th>\n",
       "      <td>0</td>\n",
       "      <td>0</td>\n",
       "      <td>0</td>\n",
       "      <td>0</td>\n",
       "      <td>1</td>\n",
       "      <td>0</td>\n",
       "      <td>1</td>\n",
       "      <td>1</td>\n",
       "      <td>1</td>\n",
       "      <td>1</td>\n",
       "      <td>...</td>\n",
       "      <td>0</td>\n",
       "      <td>1</td>\n",
       "      <td>0</td>\n",
       "      <td>1</td>\n",
       "      <td>0</td>\n",
       "      <td>0</td>\n",
       "      <td>3.537</td>\n",
       "      <td>40</td>\n",
       "      <td>191</td>\n",
       "      <td>1</td>\n",
       "    </tr>\n",
       "  </tbody>\n",
       "</table>\n",
       "<p>5 rows × 58 columns</p>\n",
       "</div>"
      ],
      "text/plain": [
       "   word_make  word_address  word_all  word_3d  word_our  word_over  \\\n",
       "0          0             1         1        0         1          0   \n",
       "1          1             1         1        0         1          1   \n",
       "2          1             0         1        0         1          1   \n",
       "3          0             0         0        0         1          0   \n",
       "4          0             0         0        0         1          0   \n",
       "\n",
       "   word_remove  word_internet  word_order  word_mail  ...  char_semicolon  \\\n",
       "0            0              0           0          0  ...               0   \n",
       "1            1              1           0          1  ...               0   \n",
       "2            1              1           1          1  ...               1   \n",
       "3            1              1           1          1  ...               0   \n",
       "4            1              1           1          1  ...               0   \n",
       "\n",
       "   char_leftbrac  char_leftsquarebrac  char_exclaim  char_dollar  char_pound  \\\n",
       "0              0                    0             1            0           0   \n",
       "1              1                    0             1            1           1   \n",
       "2              1                    0             1            1           1   \n",
       "3              1                    0             1            0           0   \n",
       "4              1                    0             1            0           0   \n",
       "\n",
       "   capital_run_length_average  capital_run_length_longest  \\\n",
       "0                       3.756                          61   \n",
       "1                       5.114                         101   \n",
       "2                       9.821                         485   \n",
       "3                       3.537                          40   \n",
       "4                       3.537                          40   \n",
       "\n",
       "   capital_run_length_total  spam  \n",
       "0                       278     1  \n",
       "1                      1028     1  \n",
       "2                      2259     1  \n",
       "3                       191     1  \n",
       "4                       191     1  \n",
       "\n",
       "[5 rows x 58 columns]"
      ]
     },
     "execution_count": 2,
     "metadata": {},
     "output_type": "execute_result"
    }
   ],
   "source": [
    "df = pd.read_csv('Spam.csv') # load the data using pandas\n",
    "df.head() # show first 5 rows"
   ]
  },
  {
   "cell_type": "markdown",
   "id": "1334f8ba",
   "metadata": {},
   "source": [
    "## Primary data analysis"
   ]
  },
  {
   "cell_type": "markdown",
   "id": "180cd575",
   "metadata": {},
   "source": [
    "### Check for mis"
   ]
  },
  {
   "cell_type": "code",
   "execution_count": 3,
   "id": "9b9e1db8",
   "metadata": {},
   "outputs": [
    {
     "data": {
      "text/plain": [
       "word_make                     False\n",
       "word_address                  False\n",
       "word_all                      False\n",
       "word_3d                       False\n",
       "word_our                      False\n",
       "word_over                     False\n",
       "word_remove                   False\n",
       "word_internet                 False\n",
       "word_order                    False\n",
       "word_mail                     False\n",
       "word_receive                  False\n",
       "word_will                     False\n",
       "word_people                   False\n",
       "word_report                   False\n",
       "word_addresses                False\n",
       "word_free                     False\n",
       "word_business                 False\n",
       "word_email                    False\n",
       "word_you                      False\n",
       "word_credit                   False\n",
       "word_your                     False\n",
       "word_font                     False\n",
       "word_000                      False\n",
       "word_money                    False\n",
       "word_hp                       False\n",
       "word_hpl                      False\n",
       "word_george                   False\n",
       "word_650                      False\n",
       "word_lab                      False\n",
       "word_labs                     False\n",
       "word_telnet                   False\n",
       "word_857                      False\n",
       "word_data                     False\n",
       "word_415                      False\n",
       "word_85                       False\n",
       "word_technology               False\n",
       "word_1999                     False\n",
       "word_parts                    False\n",
       "word_pm                       False\n",
       "word_direct                   False\n",
       "word_cs                       False\n",
       "word_meeting                  False\n",
       "word_original                 False\n",
       "word_project                  False\n",
       "word_re                       False\n",
       "word_edu                      False\n",
       "word_table                    False\n",
       "word_conference               False\n",
       "char_semicolon                False\n",
       "char_leftbrac                 False\n",
       "char_leftsquarebrac           False\n",
       "char_exclaim                  False\n",
       "char_dollar                   False\n",
       "char_pound                    False\n",
       "capital_run_length_average    False\n",
       "capital_run_length_longest    False\n",
       "capital_run_length_total      False\n",
       "spam                          False\n",
       "dtype: bool"
      ]
     },
     "execution_count": 3,
     "metadata": {},
     "output_type": "execute_result"
    }
   ],
   "source": [
    "df.isnull().any()"
   ]
  },
  {
   "cell_type": "markdown",
   "id": "31581c64",
   "metadata": {},
   "source": [
    "### splitting the data"
   ]
  },
  {
   "cell_type": "code",
   "execution_count": 4,
   "id": "0c1b8efc",
   "metadata": {},
   "outputs": [
    {
     "name": "stdout",
     "output_type": "stream",
     "text": [
      "(4601, 57) (4601,)\n"
     ]
    }
   ],
   "source": [
    "X = df.drop('spam', axis=1) #To get X columns we drop the spam column because it is our y(target column)\n",
    "y = df['spam']\n",
    "\n",
    "print(X.shape, y.shape)# Show the shape of the data"
   ]
  },
  {
   "cell_type": "code",
   "execution_count": 5,
   "id": "ad923742",
   "metadata": {},
   "outputs": [
    {
     "name": "stdout",
     "output_type": "stream",
     "text": [
      "X train: (3220, 57)\n",
      "X test: (1381, 57)\n",
      "y train: (3220,)\n",
      "y test: (1381,)\n"
     ]
    }
   ],
   "source": [
    "# Next we need to import the splitting module from sklearn\n",
    "\n",
    "from sklearn.model_selection import train_test_split\n",
    "\n",
    "# train test split takes in 2 compulsory arguments thats the X and Y\n",
    "# We further need to split on a 30% test data size and a random state of 12345\n",
    "X_train, X_test, y_train, y_test = train_test_split(X, y, test_size=0.3, random_state=12345)\n",
    "\n",
    "print(f\"X train: {X_train.shape}\")\n",
    "print(f\"X test: {X_test.shape}\")\n",
    "print(f\"y train: {y_train.shape}\")\n",
    "print(f\"y test: {y_test.shape}\")"
   ]
  },
  {
   "cell_type": "markdown",
   "id": "d3e74ba6",
   "metadata": {},
   "source": [
    "### K-Nearest Nearest Neighbors model"
   ]
  },
  {
   "cell_type": "code",
   "execution_count": 6,
   "id": "8ced205c",
   "metadata": {},
   "outputs": [
    {
     "name": "stdout",
     "output_type": "stream",
     "text": [
      "score of k = 1 is 0.7965242577842143\n",
      "score of k = 2 is 0.7907313540912382\n",
      "score of k = 3 is 0.7943519188993483\n",
      "score of k = 4 is 0.7856625633598842\n",
      "score of k = 5 is 0.7892831281679942\n",
      "score of k = 6 is 0.782766111513396\n",
      "score of k = 7 is 0.7690079652425779\n",
      "score of k = 8 is 0.7653874004344677\n",
      "score of k = 9 is 0.775524981897176\n",
      "score of k = 10 is 0.7595944967414917\n",
      "score of k = 11 is 0.7617668356263577\n",
      "score of k = 12 is 0.7690079652425779\n",
      "score of k = 13 is 0.7639391745112237\n",
      "score of k = 14 is 0.7624909485879797\n"
     ]
    }
   ],
   "source": [
    "from sklearn.neighbors import KNeighborsClassifier\n",
    "from sklearn.metrics import accuracy_score # This is an evaluation metric\n",
    "\n",
    "score = [] #initialize an empty array to store the score values from the for loop below\n",
    "\n",
    "for k in range(1,15): # We want to loop from 1-15 and search for the best value of k\n",
    "    model = KNeighborsClassifier(n_neighbors=k) # pass the value of k for each loop in the n_neighbours argument\n",
    "    model.fit(X_train, y_train) # Fit the training data into the classification model\n",
    "    y_pred = model.predict(X_test) #Now try and make a prediction of the model by passing the testing data\n",
    "    k_val_score = [k, accuracy_score(y_test, y_pred)] #store 2 outputs in an array\n",
    "    score.append(k_val_score) # mearge or append the arrays\n",
    "    print(f\"Accuracy score when k = {k} is {accuracy_score(y_test, y_pred)}\")\n"
   ]
  },
  {
   "cell_type": "markdown",
   "id": "d69109fe",
   "metadata": {},
   "source": [
    "The best model will have the maximum accuracy score"
   ]
  }
 ],
 "metadata": {
  "kernelspec": {
   "display_name": "Python 3",
   "language": "python",
   "name": "python3"
  },
  "language_info": {
   "codemirror_mode": {
    "name": "ipython",
    "version": 3
   },
   "file_extension": ".py",
   "mimetype": "text/x-python",
   "name": "python",
   "nbconvert_exporter": "python",
   "pygments_lexer": "ipython3",
   "version": "3.8.8"
  },
  "vscode": {
   "interpreter": {
    "hash": "04b2e48da8715d0e03ed003238e610aa18fc3abec3b418b1e66df75f2c0e936e"
   }
  }
 },
 "nbformat": 4,
 "nbformat_minor": 5
}
