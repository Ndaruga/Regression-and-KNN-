{
 "cells": [
  {
   "cell_type": "markdown",
   "id": "7ffe3691",
   "metadata": {},
   "source": [
    "# Email Spam Data"
   ]
  },
  {
   "cell_type": "code",
   "execution_count": 1,
   "id": "b6c62fd9",
   "metadata": {},
   "outputs": [],
   "source": [
    "import pandas as pd\n",
    "import numpy as np\n",
    "import seaborn as sns\n",
    "import matplotlib.pyplot as plt\n",
    "import warnings\n",
    "warnings.filterwarnings('ignore')\n"
   ]
  },
  {
   "cell_type": "code",
   "execution_count": 2,
   "id": "ced14f4f",
   "metadata": {},
   "outputs": [
    {
     "data": {
      "text/html": [
       "<div>\n",
       "<style scoped>\n",
       "    .dataframe tbody tr th:only-of-type {\n",
       "        vertical-align: middle;\n",
       "    }\n",
       "\n",
       "    .dataframe tbody tr th {\n",
       "        vertical-align: top;\n",
       "    }\n",
       "\n",
       "    .dataframe thead th {\n",
       "        text-align: right;\n",
       "    }\n",
       "</style>\n",
       "<table border=\"1\" class=\"dataframe\">\n",
       "  <thead>\n",
       "    <tr style=\"text-align: right;\">\n",
       "      <th></th>\n",
       "      <th>word_make</th>\n",
       "      <th>word_address</th>\n",
       "      <th>word_all</th>\n",
       "      <th>word_3d</th>\n",
       "      <th>word_our</th>\n",
       "      <th>word_over</th>\n",
       "      <th>word_remove</th>\n",
       "      <th>word_internet</th>\n",
       "      <th>word_order</th>\n",
       "      <th>word_mail</th>\n",
       "      <th>...</th>\n",
       "      <th>char_semicolon</th>\n",
       "      <th>char_leftbrac</th>\n",
       "      <th>char_leftsquarebrac</th>\n",
       "      <th>char_exclaim</th>\n",
       "      <th>char_dollar</th>\n",
       "      <th>char_pound</th>\n",
       "      <th>capital_run_length_average</th>\n",
       "      <th>capital_run_length_longest</th>\n",
       "      <th>capital_run_length_total</th>\n",
       "      <th>spam</th>\n",
       "    </tr>\n",
       "  </thead>\n",
       "  <tbody>\n",
       "    <tr>\n",
       "      <th>0</th>\n",
       "      <td>0</td>\n",
       "      <td>1</td>\n",
       "      <td>1</td>\n",
       "      <td>0</td>\n",
       "      <td>1</td>\n",
       "      <td>0</td>\n",
       "      <td>0</td>\n",
       "      <td>0</td>\n",
       "      <td>0</td>\n",
       "      <td>0</td>\n",
       "      <td>...</td>\n",
       "      <td>0</td>\n",
       "      <td>0</td>\n",
       "      <td>0</td>\n",
       "      <td>1</td>\n",
       "      <td>0</td>\n",
       "      <td>0</td>\n",
       "      <td>3.756</td>\n",
       "      <td>61</td>\n",
       "      <td>278</td>\n",
       "      <td>1</td>\n",
       "    </tr>\n",
       "    <tr>\n",
       "      <th>1</th>\n",
       "      <td>1</td>\n",
       "      <td>1</td>\n",
       "      <td>1</td>\n",
       "      <td>0</td>\n",
       "      <td>1</td>\n",
       "      <td>1</td>\n",
       "      <td>1</td>\n",
       "      <td>1</td>\n",
       "      <td>0</td>\n",
       "      <td>1</td>\n",
       "      <td>...</td>\n",
       "      <td>0</td>\n",
       "      <td>1</td>\n",
       "      <td>0</td>\n",
       "      <td>1</td>\n",
       "      <td>1</td>\n",
       "      <td>1</td>\n",
       "      <td>5.114</td>\n",
       "      <td>101</td>\n",
       "      <td>1028</td>\n",
       "      <td>1</td>\n",
       "    </tr>\n",
       "    <tr>\n",
       "      <th>2</th>\n",
       "      <td>1</td>\n",
       "      <td>0</td>\n",
       "      <td>1</td>\n",
       "      <td>0</td>\n",
       "      <td>1</td>\n",
       "      <td>1</td>\n",
       "      <td>1</td>\n",
       "      <td>1</td>\n",
       "      <td>1</td>\n",
       "      <td>1</td>\n",
       "      <td>...</td>\n",
       "      <td>1</td>\n",
       "      <td>1</td>\n",
       "      <td>0</td>\n",
       "      <td>1</td>\n",
       "      <td>1</td>\n",
       "      <td>1</td>\n",
       "      <td>9.821</td>\n",
       "      <td>485</td>\n",
       "      <td>2259</td>\n",
       "      <td>1</td>\n",
       "    </tr>\n",
       "    <tr>\n",
       "      <th>3</th>\n",
       "      <td>0</td>\n",
       "      <td>0</td>\n",
       "      <td>0</td>\n",
       "      <td>0</td>\n",
       "      <td>1</td>\n",
       "      <td>0</td>\n",
       "      <td>1</td>\n",
       "      <td>1</td>\n",
       "      <td>1</td>\n",
       "      <td>1</td>\n",
       "      <td>...</td>\n",
       "      <td>0</td>\n",
       "      <td>1</td>\n",
       "      <td>0</td>\n",
       "      <td>1</td>\n",
       "      <td>0</td>\n",
       "      <td>0</td>\n",
       "      <td>3.537</td>\n",
       "      <td>40</td>\n",
       "      <td>191</td>\n",
       "      <td>1</td>\n",
       "    </tr>\n",
       "    <tr>\n",
       "      <th>4</th>\n",
       "      <td>0</td>\n",
       "      <td>0</td>\n",
       "      <td>0</td>\n",
       "      <td>0</td>\n",
       "      <td>1</td>\n",
       "      <td>0</td>\n",
       "      <td>1</td>\n",
       "      <td>1</td>\n",
       "      <td>1</td>\n",
       "      <td>1</td>\n",
       "      <td>...</td>\n",
       "      <td>0</td>\n",
       "      <td>1</td>\n",
       "      <td>0</td>\n",
       "      <td>1</td>\n",
       "      <td>0</td>\n",
       "      <td>0</td>\n",
       "      <td>3.537</td>\n",
       "      <td>40</td>\n",
       "      <td>191</td>\n",
       "      <td>1</td>\n",
       "    </tr>\n",
       "  </tbody>\n",
       "</table>\n",
       "<p>5 rows × 58 columns</p>\n",
       "</div>"
      ],
      "text/plain": [
       "   word_make  word_address  word_all  word_3d  word_our  word_over  \\\n",
       "0          0             1         1        0         1          0   \n",
       "1          1             1         1        0         1          1   \n",
       "2          1             0         1        0         1          1   \n",
       "3          0             0         0        0         1          0   \n",
       "4          0             0         0        0         1          0   \n",
       "\n",
       "   word_remove  word_internet  word_order  word_mail  ...  char_semicolon  \\\n",
       "0            0              0           0          0  ...               0   \n",
       "1            1              1           0          1  ...               0   \n",
       "2            1              1           1          1  ...               1   \n",
       "3            1              1           1          1  ...               0   \n",
       "4            1              1           1          1  ...               0   \n",
       "\n",
       "   char_leftbrac  char_leftsquarebrac  char_exclaim  char_dollar  char_pound  \\\n",
       "0              0                    0             1            0           0   \n",
       "1              1                    0             1            1           1   \n",
       "2              1                    0             1            1           1   \n",
       "3              1                    0             1            0           0   \n",
       "4              1                    0             1            0           0   \n",
       "\n",
       "   capital_run_length_average  capital_run_length_longest  \\\n",
       "0                       3.756                          61   \n",
       "1                       5.114                         101   \n",
       "2                       9.821                         485   \n",
       "3                       3.537                          40   \n",
       "4                       3.537                          40   \n",
       "\n",
       "   capital_run_length_total  spam  \n",
       "0                       278     1  \n",
       "1                      1028     1  \n",
       "2                      2259     1  \n",
       "3                       191     1  \n",
       "4                       191     1  \n",
       "\n",
       "[5 rows x 58 columns]"
      ]
     },
     "execution_count": 2,
     "metadata": {},
     "output_type": "execute_result"
    }
   ],
   "source": [
    "spam_df = pd.read_csv('Spam.csv')\n",
    "spam_df.head()"
   ]
  },
  {
   "cell_type": "code",
   "execution_count": 3,
   "id": "973acad7",
   "metadata": {},
   "outputs": [
    {
     "data": {
      "text/plain": [
       "0"
      ]
     },
     "execution_count": 3,
     "metadata": {},
     "output_type": "execute_result"
    }
   ],
   "source": [
    "spam_df.isnull().any().sum()"
   ]
  },
  {
   "cell_type": "code",
   "execution_count": 4,
   "id": "5fcd3386",
   "metadata": {},
   "outputs": [
    {
     "data": {
      "image/png": "[encoded data removed]",
      "text/plain": [
       "<Figure size 432x288 with 1 Axes>"
      ]
     },
     "metadata": {
      "needs_background": "light"
     },
     "output_type": "display_data"
    }
   ],
   "source": [
    "sns.countplot(spam_df['spam'])\n",
    "plt.title(\"Data distribution for emails\")\n",
    "plt.show()"
   ]
  },
  {
   "cell_type": "markdown",
   "id": "31581c64",
   "metadata": {},
   "source": [
    "### splitting the data"
   ]
  },
  {
   "cell_type": "markdown",
   "id": "696c7d70",
   "metadata": {},
   "source": [
    "Before spliting the data we need to define our X and y variables as follows\n",
    "<li>X --> all the dependent variables</li>\n",
    "<li>y --> the independent variable which is <strong>spam</strong></li>\n"
   ]
  },
  {
   "cell_type": "code",
   "execution_count": 5,
   "id": "0c1b8efc",
   "metadata": {},
   "outputs": [
    {
     "name": "stdout",
     "output_type": "stream",
     "text": [
      "(4601, 57) (4601,)\n"
     ]
    }
   ],
   "source": [
    "X = spam_df.drop('spam', axis=1)\n",
    "y = spam_df['spam']\n",
    "\n",
    "print(X.shape, y.shape)"
   ]
  },
  {
   "cell_type": "code",
   "execution_count": 6,
   "id": "ad923742",
   "metadata": {},
   "outputs": [
    {
     "name": "stdout",
     "output_type": "stream",
     "text": [
      "X train: (3220, 57)\n",
      "y train: (3220,)\n",
      "X test: (1381, 57)\n",
      "y test: (1381,)\n"
     ]
    }
   ],
   "source": [
    "from sklearn.model_selection import train_test_split\n",
    "X_train, X_test, y_train, y_test = train_test_split(X, y, test_size=0.3, random_state=12345)\n",
    "\n",
    "print(\"X train: {}\".format(X_train.shape))\n",
    "print(\"y train: {}\".format(y_train.shape))\n",
    "print(\"X test: {}\".format(X_test.shape))\n",
    "print(\"y test: {}\".format(y_test.shape))"
   ]
  },
  {
   "cell_type": "markdown",
   "id": "d3e74ba6",
   "metadata": {},
   "source": [
    "### Building a KNN model"
   ]
  },
  {
   "cell_type": "code",
   "execution_count": null,
   "id": "8ced205c",
   "metadata": {},
   "outputs": [],
   "source": [
    "from sklearn.neighbors import KNeighborsClassifier\n",
    "from sklearn.metrics import accuracy_score\n",
    "\n",
    "acc_score = []\n",
    "\n",
    "for k in range(1,50):\n",
    "    clfr = KNeighborsClassifier(n_neighbors=k)\n",
    "    clfr.fit(X_train, y_train)\n",
    "    y_pred = clfr.predict(X_test)\n",
    "    vals = [k, accuracy_score(y_test, y_pred)]\n",
    "    acc_score.append(vals)\n",
    "\n",
    "# converting the multidimentional list into a numpy array\n",
    "acc_score = np.array(acc_score)\n",
    "\n",
    "print(\"Best Model accuracy is : {}\".format(max(acc_score[:, 1])))"
   ]
  },
  {
   "cell_type": "markdown",
   "id": "3befb28d",
   "metadata": {},
   "source": [
    "### Logistic regression Model"
   ]
  },
  {
   "cell_type": "code",
   "execution_count": null,
   "id": "6ecee225",
   "metadata": {},
   "outputs": [],
   "source": [
    "from sklearn.linear_model import LogisticRegression\n",
    "from sklearn import metrics\n",
    "from sklearn.metrics import classification_report, confusion_matrix\n",
    "\n",
    "model = LogisticRegression()\n",
    "model.fit(X_train, y_train)\n",
    "pred_lr = model.predict(X_test)\n",
    "\n",
    "# Evaluation using metric score\n",
    "lr_score = model.score(X_test, y_test)\n",
    "print(f\"Logistic Regression accuracy: {lr_score}\")\n",
    "\n",
    "print(\"*\"*100)\n",
    "\n",
    "# Evaluating using confussion matrix\n",
    "print('\\nModel evaluation using confusion matrix')\n",
    "cnfsnmtx = confusion_matrix(y_test, pred_lr)\n",
    "print(cnfsnmtx)\n",
    "\n",
    "print(\"*\"*100)\n",
    "\n",
    "# Evaluation using classification report\n",
    "print('\\nModel evaluation using confusion classification report')\n",
    "target_names = ['Spam','No spam']\n",
    "print(classification_report(y_test, pred_lr, target_names=target_names))\n"
   ]
  },
  {
   "cell_type": "markdown",
   "id": "482c8bd3",
   "metadata": {},
   "source": [
    "### Best model to classify the data"
   ]
  },
  {
   "cell_type": "markdown",
   "id": "d9bd44ae",
   "metadata": {},
   "source": [
    "From the two models, Logistic regression performed well on the test data, showing up with an accuracy of 94%.<br>\n",
    "Logistic regression performs well on data with binary classes such as the email spam data.\n",
    "\n",
    "The data distrinution is unequal i.e \n",
    "<li>spam (0) emails : 2788</li>   \n",
    "<li>spam (1) emails : 1813</li> \n",
    "  \n",
    "this makes KNN perform poorly with an accuracy of 80% compared to Logisutc regression"
   ]
  },
  {
   "cell_type": "markdown",
   "id": "7135c85d",
   "metadata": {},
   "source": [
    "## Saving the best model\n",
    "Logisic regression has the best accuracy on test data"
   ]
  },
  {
   "cell_type": "code",
   "execution_count": null,
   "id": "f8caaf9a",
   "metadata": {},
   "outputs": [],
   "source": [
    "import pickle\n",
    "# Save the Modle to file in the current working directory\n",
    "\n",
    "Pkl_Filename = \"Pickle_RL_Model.pkl\"  \n",
    "\n",
    "with open(Pkl_Filename, 'wb') as file:  \n",
    "    pickle.dump(model, file)"
   ]
  },
  {
   "cell_type": "markdown",
   "id": "60fea5e0",
   "metadata": {},
   "source": [
    "# Diabetes Dataset from sklearn"
   ]
  },
  {
   "cell_type": "code",
   "execution_count": null,
   "id": "52cbb765",
   "metadata": {},
   "outputs": [],
   "source": [
    "from sklearn import datasets\n",
    "X,y = datasets.load_diabetes(return_X_y=True, as_frame=True)\n"
   ]
  },
  {
   "cell_type": "code",
   "execution_count": null,
   "id": "a5ab7a5d",
   "metadata": {},
   "outputs": [],
   "source": [
    "type(X)"
   ]
  },
  {
   "cell_type": "code",
   "execution_count": null,
   "id": "40da7f48",
   "metadata": {},
   "outputs": [],
   "source": [
    "X"
   ]
  },
  {
   "cell_type": "markdown",
   "id": "cbc99a07",
   "metadata": {},
   "source": [
    "### Data partitioning"
   ]
  },
  {
   "cell_type": "code",
   "execution_count": null,
   "id": "e33c508f",
   "metadata": {},
   "outputs": [],
   "source": [
    "X_train2, X_test2, y_train2, y_test2 = train_test_split(X,y, test_size=20)\n",
    "\n",
    "\n",
    "print(\"X train: {}\".format(X_train2.shape))\n",
    "print(\"y train: {}\".format(y_train2.shape))\n",
    "print(\"X test: {}\".format(X_test2.shape))\n",
    "print(\"y test: {}\".format(y_test2.shape))"
   ]
  },
  {
   "cell_type": "markdown",
   "id": "354c48e3",
   "metadata": {},
   "source": [
    "### Predictive moddeling"
   ]
  },
  {
   "cell_type": "code",
   "execution_count": null,
   "id": "490f37b8",
   "metadata": {},
   "outputs": [],
   "source": [
    "from sklearn.linear_model import LinearRegression\n",
    "\n",
    "model2 = LinearRegression()\n",
    "model2.fit(X_train2, y_train2)\n",
    "\n",
    "# Intercept\n",
    "print(\"intercept : \", model2.intercept_)\n",
    "print('-'*50)\n",
    "\n",
    "# slope\n",
    "print(\"Slope : \", model2.coef_)\n",
    "print('-'*50)\n",
    "\n",
    "# predict\n",
    "y_pred = model2.predict(X_test2)\n",
    "print(\"Predicted vals : \", y_pred, sep='\\n')\n",
    "print('-'*50)\n",
    "\n",
    "md_score = model2.score(X_train2, y_train2)\n",
    "print('Variance: ', md_score)"
   ]
  },
  {
   "cell_type": "markdown",
   "id": "eb4c637c",
   "metadata": {},
   "source": [
    "### Physiological factors examination"
   ]
  },
  {
   "cell_type": "code",
   "execution_count": null,
   "id": "458811b9",
   "metadata": {},
   "outputs": [],
   "source": [
    "X_cols = X.columns.values\n",
    "type(X_cols)"
   ]
  },
  {
   "cell_type": "code",
   "execution_count": null,
   "id": "50d77437",
   "metadata": {},
   "outputs": [],
   "source": [
    "\n",
    "fig = plt.figure(figsize=(20,40))\n",
    "for i in range(len(X.columns)):\n",
    "    column = X.columns[i]\n",
    "    sub = fig.add_subplot(5,2,i+1)\n",
    "    chart = sns.scatterplot(data = X, y = column, x = y, hue='sex', palette='deep')\n",
    "    plt.title(f\"{column} correlation\")\n"
   ]
  },
  {
   "cell_type": "code",
   "execution_count": null,
   "id": "7339777b",
   "metadata": {},
   "outputs": [],
   "source": [
    "# Join the data frames\n",
    "unsplitted_data = pd.concat([X,y], axis=1)\n",
    "\n",
    "# find the coreration of all the variables\n",
    "cor = unsplitted_data.corr()\n",
    "\n",
    "# heat map visual\n",
    "fig = plt.figure(figsize=(10,8))\n",
    "sns.heatmap(cor, cmap='Blues')\n",
    "plt.show()"
   ]
  },
  {
   "cell_type": "markdown",
   "id": "1502f7b0",
   "metadata": {},
   "source": [
    "The more dark or bright a variable is in relation to another variable, the more strongly positive or strongly negative respectively the correlation is."
   ]
  },
  {
   "cell_type": "code",
   "execution_count": null,
   "id": "8c029cc5",
   "metadata": {},
   "outputs": [],
   "source": []
  }
 ],
 "metadata": {
  "kernelspec": {
   "display_name": "Python 3",
   "language": "python",
   "name": "python3"
  },
  "language_info": {
   "codemirror_mode": {
    "name": "ipython",
    "version": 3
   },
   "file_extension": ".py",
   "mimetype": "text/x-python",
   "name": "python",
   "nbconvert_exporter": "python",
   "pygments_lexer": "ipython3",
   "version": "3.8.8"
  },
  "vscode": {
   "interpreter": {
    "hash": "04b2e48da8715d0e03ed003238e610aa18fc3abec3b418b1e66df75f2c0e936e"
   }
  }
 },
 "nbformat": 4,
 "nbformat_minor": 5
}
